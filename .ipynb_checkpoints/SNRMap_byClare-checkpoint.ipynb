{
 "cells": [
  {
   "cell_type": "code",
   "execution_count": 182,
   "metadata": {
    "collapsed": false,
    "deletable": true,
    "editable": true,
    "scrolled": true
   },
   "outputs": [],
   "source": [
    "import numpy as np\n",
    "import math\n",
    "import statistics as stat \n",
    "from astropy.io import fits\n",
    "import matplotlib.pyplot as plt\n",
    "import os\n",
    "import sys"
   ]
  },
  {
   "cell_type": "code",
   "execution_count": 183,
   "metadata": {
    "collapsed": true,
    "deletable": true,
    "editable": true
   },
   "outputs": [],
   "source": [
    "def read_file(filename): \n",
    "    \"\"\"\n",
    "    This function reads a FITS image cube to memory\n",
    "\n",
    "    Required Inputs:\n",
    "    1. String containing path to desired pyklipped image file\n",
    "    \n",
    "    Example:\n",
    "    read_file(\"med_HD142527_8Apr14short_SDI_a7m3-10KLmodes.fits\")\n",
    "    \n",
    "    Written by:\n",
    "    Elijah Spiro\n",
    "\n",
    "    Last Modified:\n",
    "    6/19/2017\n",
    "    \"\"\" \n",
    "    hdulist = fits.open(filename)\n",
    "    indivData = hdulist[0].data\n",
    "    hdulist.close()\n",
    "    print(\"Read \" + filename  + \" in to memory\")\n",
    "    return indivData"
   ]
  },
  {
   "cell_type": "code",
   "execution_count": 184,
   "metadata": {
    "collapsed": false
   },
   "outputs": [],
   "source": [
    "def convertAngle(theta):\n",
    "    \"\"\"\n",
    "    This function takes in an angle as input and converts it to be between 0 and 360 if necessary\n",
    "    \n",
    "    Reuired Inputs:\n",
    "    1. Angle to be converted\n",
    "            \n",
    "    Example:\n",
    "    convertAngle(-30)\n",
    "    \n",
    "    Written by:\n",
    "    Clare Leonard\n",
    "    \n",
    "    Last Modified:\n",
    "    6/28/2016\n",
    "    \n",
    "    \"\"\"\n",
    "    #modifies angle measurement to fit on a scale from 0 to 360 if it doesn't already\n",
    "    \n",
    "    if (theta < 0):\n",
    "        theta = theta+360\n",
    "        \n",
    "    elif (theta >360):\n",
    "        theta = theta -360\n",
    "        \n",
    "    return theta"
   ]
  },
  {
   "cell_type": "code",
   "execution_count": 185,
   "metadata": {
    "collapsed": false
   },
   "outputs": [],
   "source": [
    "def inWedge(theta, theta1, theta2):\n",
    "    \n",
    "    \"\"\"\n",
    "    This function takes in three angles values (in degrees) and returns true if the first of these falls within a wedge starting at theta1 and ending at theta2.\n",
    "    \n",
    "    Reuired Inputs:\n",
    "    1. Position angle of point being tested\n",
    "    2. Start angle of wedge\n",
    "    3. End angle of wedge\n",
    "    \n",
    "    Examples:\n",
    "    inWedge(100, 70, 80)\n",
    "        *would return False\n",
    "    inWedge(100, 80, 70)    \n",
    "        *would return True\n",
    "    \n",
    "    Written by:\n",
    "    Clare Leonard\n",
    "    \n",
    "    Last Modified:\n",
    "    6/27/2016\n",
    "    \n",
    "    \"\"\"\n",
    "    #checks to see if designated angle falls within masked region\n",
    "    if (theta1 > theta2):\n",
    "        return (theta <= theta2 or theta >= theta1)\n",
    "    elif (theta2 > theta1):\n",
    "        return (theta <= theta2 and theta >= theta1)\n",
    "    elif (theta2 == theta1):\n",
    "        return (theta == theta1)\n",
    "    else: \n",
    "        return (False)"
   ]
  },
  {
   "cell_type": "code",
   "execution_count": 186,
   "metadata": {
    "collapsed": false
   },
   "outputs": [],
   "source": [
    "def isPlanet(radius, theta, planets):\n",
    "    \n",
    "    \n",
    "    \"\"\"\n",
    "    This function takes in the polar coordinates of a point to be tested and a touple containing lists of parameters for planets in the data to be masked.\n",
    "    \n",
    "    Reuired Inputs:\n",
    "    1. Integer radius of point to be tested\n",
    "    2. Angle coordinate of point to be tested\n",
    "    3. Tuple containing the following lists:\n",
    "        a. List of radial coordinates of planets in data\n",
    "        b. List of corresponding position angles of planets in data (must be same length of a)\n",
    "        c. List containing radial thickness of deired mask on either side of the planet, followed by the disired angular thickness\n",
    "            \n",
    "    Example:\n",
    "    isPlanet(20, 70, planetData)\n",
    "        where  >>> planetData = [12, 20, 30, 50], [40, 100, 60, 150], [10, 5]\n",
    "    \n",
    "    Written by:\n",
    "    Clare Leonard\n",
    "    \n",
    "    Last Modified:\n",
    "    6/28/2016\n",
    "    \n",
    "    \"\"\"\n",
    "\n",
    "    #returns False if there are no planets to mask, showing that the pixel of interest does not fall within any masked region\n",
    "    if (planets == None):\n",
    "        return False\n",
    "  \n",
    "    #stores lists found in 'planets' tuple as separate variables\n",
    "    rads, PAs, wid = planets\n",
    "    \n",
    "    #stores both arguements of 'wid' parameter in separate variables\n",
    "    r_wid, pa_wid = wid\n",
    "    \n",
    "    for x in range (len(rads)):\n",
    "       \n",
    "        #checks to see if point falls within masked radii\n",
    "        if ((radius < rads[x] + r_wid) and (radius > rads[x] - r_wid)):\n",
    "            \n",
    "            #converts position angle and upper and lower angle limits t fall between 0 and 360 degrees\n",
    "            PA = convertAngle(PAs[x])\n",
    "            theta1 = PA - pa_wid\n",
    "            theta2 = convertAngle(theta1)\n",
    "            theta2 = PA + pa_wid\n",
    "            theta2 = convertAngle(theta2)\n",
    "            \n",
    "            #returns true if the point falls within the bounds of the angle limits, as well as within specified radii\n",
    "            if(inWedge(theta, theta1, theta2)):\n",
    "                return True\n",
    "            \n",
    "    #returns false if point either doesnt fall between masked radii or masked angles        \n",
    "    return False\n",
    "    "
   ]
  },
  {
   "cell_type": "code",
   "execution_count": 203,
   "metadata": {
    "collapsed": true,
    "deletable": true,
    "editable": true
   },
   "outputs": [],
   "source": [
    "def toPolar(x, y, xCen, yCen):\n",
    "    \n",
    "    \"\"\"\n",
    "    This function takes a set of pixel coordinates and a set of reference coordinates and transforms the pixel coordinates into polar coordinates.\n",
    "    \n",
    "    Reuired Inputs:\n",
    "    1. Integer x index of pixel\n",
    "    2. Integer y index of pixel\n",
    "    3. Integer x index of reference (center) pixel\n",
    "    4. Integer y index of reference (center) pixel\n",
    "    \n",
    "    Exmple:\n",
    "    toPolar(317, 12, 225, 225)\n",
    "    \n",
    "    Written by:\n",
    "    Clare Leonard\n",
    "    \n",
    "    Last Modified:\n",
    "    6/27/2016\n",
    "    \n",
    "    \"\"\"\n",
    "    \n",
    "    #defines pixel radius as the distance from said pixel to the center pixel rounded to an integer\n",
    "    r = int(np.sqrt((x-xCen)**2+(y-yCen)**2))\n",
    "    #if (r-int(r)>=.5):\n",
    "        #r = int(r)+1\n",
    "    #elif (r-int(r)<.5): \n",
    "        #r = int(r)\n",
    "    \n",
    "    #defines pixel angle 'theta' as the arctangent of the y distance from center divided by the x distance from center\n",
    "    theta = math.degrees(math.atan2((y-yCen),(x-xCen)))\n",
    "    \n",
    "    #indexing of the image requires reflecting calculated angle accross the y axis\n",
    "    theta = theta *-1\n",
    "    \n",
    "    #makes sure angle is between 0 and 360\n",
    "    if(theta<0): \n",
    "         theta = theta + 360\n",
    "\n",
    "    #return calculated polar coordinates\n",
    "    return (r,theta)"
   ]
  },
  {
   "cell_type": "code",
   "execution_count": 204,
   "metadata": {
    "collapsed": false,
    "deletable": true,
    "editable": true
   },
   "outputs": [],
   "source": [
    "def stdevMap(indiv, planets):\n",
    "    \n",
    "    \"\"\"\n",
    "    This function takes a filename and a list of parameters for objects to mask and outputs a dictionary object of integer value radii pointing to the standard deviation for pixel values in the image at that radius from the center.\n",
    "    \n",
    "    Reuired Inputs:\n",
    "    1. Numpy array containing all pixel values for an image\n",
    "    2. Touple containing the following lists:\n",
    "        a. List of radial coordinates of planets in data\n",
    "        b. List of corresponding position angles of planets in data (must be same length of a)\n",
    "        c. List containing radial thickness of deired mask on either side of the planet, followed by the disired angular thickness\n",
    "    \n",
    "    Example:\n",
    "    stdevMap(indiv, planetData)\n",
    "        where  >>> planetData = [12, 20, 30, 50], [40, 100, 60, 150], [10, 5]\n",
    "        and indiv is a numpy array of pixel values\n",
    "    \n",
    "    Written by:\n",
    "    Clare Leonard\n",
    "    \n",
    "    Last Modified:\n",
    "    6/28/2016\n",
    "    \n",
    "    \"\"\"\n",
    "    #creates empty dictionary objects to store unmaked pixel values and radial standard deviations\n",
    "    stdevs_ = {}\n",
    "    radialProfs = {}\n",
    "    \n",
    "    #finds the size of the image\n",
    "    xDim, yDim = np.shape(indiv)\n",
    "    \n",
    "    #defines the coordinates of the center of the image\n",
    "    xCen = int(xDim/2)\n",
    "    yCen = int(yDim/2)\n",
    "  \n",
    "    \n",
    "    #loops through every pixel in the image\n",
    "    for x in range (xDim): \n",
    "        for y in range (yDim):         \n",
    "            \n",
    "            #converts pixel values to polar coordinates\n",
    "            radius, angle, half = toPolar(x, y, xCen, yCen)  \n",
    "            \n",
    "            #adds pixel values to radial profile dictionary with the radius as key. ignores masked pixels. \n",
    "            if(not isPlanet(radius, angle, planets) and not np.isnan(indiv[x][y])):\n",
    "                \n",
    "                #appends pixel value to list associated with radius if the key already exists, adds key and starts new list if not\n",
    "                if (radius in radialProfs):\n",
    "                    radialProfs[radius].append(indiv[x][y])\n",
    "                else:\n",
    "                    radialProfs[radius] = [indiv[x][y],]\n",
    "        \n",
    "                     \n",
    "    \n",
    "    #loops through each key in radial profile dictionary, and takes standard deviation of list of pixel values\n",
    "    #adds standard deviation to stdevs_ dictionary with radius as the key\n",
    "    #ignores data points if there are too few at a certain radius to take a standard deviation. These pixels will eventually become nans\n",
    "    for r in radialProfs.keys():\n",
    "        try: \n",
    "            stdevs_[r]= np.nanstd(radialProfs[r])\n",
    "        except: \n",
    "            pass\n",
    "        \n",
    "    #returns dictionary holding standard deviations\n",
    "    return stdevs_\n",
    "    "
   ]
  },
  {
   "cell_type": "code",
   "execution_count": 205,
   "metadata": {
    "collapsed": false,
    "deletable": true,
    "editable": true
   },
   "outputs": [],
   "source": [
    "def create_map(filename, planets = None, saveOutput = False):\n",
    "    \"\"\"\n",
    "    creates signal to noise ratio map of image.\n",
    "    \n",
    "    Required Input:\n",
    "    1. String containing filename of original klipped image OR object containing data already taken from original klipped image\n",
    "\n",
    "    Optional Inputs:\n",
    "    1. Touple containing the following lists:\n",
    "        a. List of radial coordinates of planets in data\n",
    "        b. List of corresponding position angles of planets in data (must be same length of a)\n",
    "        c. List containing radial thickness of deired mask on either side of the planet, followed by the disired angular thickness\n",
    "        *default value: None*\n",
    "    2. Boolean designating whether or not to save the completed map to disk \n",
    "         *default value: False*\n",
    "    \n",
    "    file input example, without mask, saving final map to disk:\n",
    "        SNRMap.create_map(\"med_HD142527_8Apr14short_SDI_a7m3-10KLmodes.fits\", saveOutput = True)\n",
    "    object input example, with mask, without saving final map to disk:\n",
    "        SNRMap.create_map(data, planets = planetData) \n",
    "            (where  >>> planetData = [12, 20, 30, 50], [40, 100, 60, 150], [10, 5])\n",
    "            \n",
    "    Written by:\n",
    "    Clare Leonard\n",
    "\n",
    "    Last Modified:\n",
    "    6/28/2017\n",
    "    \"\"\"\n",
    "    \n",
    "    #checks data type of 'filename'\n",
    "    # if 'filename' is a string, assumes it is a filepath and reads in file\n",
    "    if(isinstance(filename, str)):\n",
    "        indiv = read_file(filename)\n",
    "        \n",
    "    #if data type is not a string, reads in python object holding data\n",
    "    else:\n",
    "        indiv = filename\n",
    "        \n",
    "    #creates dictionary holding the standard deviation of pixlel values at each radius \n",
    "    stdMap = stdevMap(indiv, planets)\n",
    "  \n",
    "    #gets size of pixel value array\n",
    "    xDim, yDim = np.shape(indiv)  \n",
    "  \n",
    "    #loops through all pixels in array\n",
    "    for x in range (xDim): \n",
    "        for y in range (yDim):\n",
    "            \n",
    "            #converts indeces to polar coordinates\n",
    "            radius, angle = toPolar(x,y, int(xDim/2), int(yDim/2))\n",
    "            \n",
    "            #use for debugging if you want to see where the mask is:\n",
    "            #if (isPlanet(radius, angle, planets)):\n",
    "                #indiv[x][y] = np.nan\n",
    "           \n",
    "            #if enough pixels have been found to calculate a standard deviation for this pixels radius, the pixel value is divided by the standard deviation of pixels at that radius\n",
    "            try:\n",
    "                indiv[x][y] = indiv[x][y]/stdMap[radius]\n",
    "                \n",
    "                #debugging step to show noise map:\n",
    "                #indiv[x][y] = stdMap[radius]\n",
    "     \n",
    "     \n",
    "            #if no standard deviation has been calculated, pixel is given a nan value\n",
    "            except:\n",
    "                indiv[x][y] = np.nan\n",
    "    \n",
    "    #saves output to disk if saveOutput designated True\n",
    "    if (saveOutput == True):\n",
    "        hdu = fits.PrimaryHDU(indiv)\n",
    "        hdulist = fits.HDUList([hdu])\n",
    "        hdulist.writeto('snrtest.fits', overwrite=True)\n",
    "        print(\"Wrote snrtest to \" + os.getcwd())\n",
    "\n",
    "\n",
    "    #returns final SNR map            \n",
    "    return indiv\n",
    "    \n",
    "    "
   ]
  },
  {
   "cell_type": "code",
   "execution_count": 206,
   "metadata": {
    "collapsed": false,
    "deletable": true,
    "editable": true
   },
   "outputs": [],
   "source": [
    "def getPlanet(filename, x, y, _range):\n",
    "    \n",
    "    \n",
    "    stdMap = create_map(filename)\n",
    "    \n",
    "    planet = -100000000\n",
    "   \n",
    "    for i in range (x-_range, x+_range):\n",
    "        for j in range (y-_range, y+_range):\n",
    "            if (stdMap[i][j] > planet):\n",
    "                planet = stdMap[i][j]\n",
    "               \n",
    "                \n",
    "    return planet"
   ]
  },
  {
   "cell_type": "code",
   "execution_count": 210,
   "metadata": {
    "collapsed": false,
    "deletable": true,
    "editable": true,
    "scrolled": false
   },
   "outputs": [
    {
     "name": "stdout",
     "output_type": "stream",
     "text": [
      "Read med_HD142527_8Apr14short_SDI_a7m3-10KLmodes.fits in to memory\n"
     ]
    },
    {
     "name": "stderr",
     "output_type": "stream",
     "text": [
      "/anaconda/lib/python3.6/site-packages/ipykernel/__main__.py:57: RuntimeWarning: divide by zero encountered in double_scalars\n"
     ]
    },
    {
     "name": "stdout",
     "output_type": "stream",
     "text": [
      "Wrote snrtest to /Users/cleonard19/Desktop/Follette-group/wrapperUpdate\n"
     ]
    }
   ],
   "source": [
    "np.set_printoptions(threshold=np.nan)\n",
    "\n",
    "planetData = [13,], [120,], [10, 15]\n",
    "\n",
    "map = create_map('med_HD142527_8Apr14short_SDI_a7m3-10KLmodes.fits', planetData, saveOutput = True)\n",
    "\n",
    "#create_map('med_HD142527_8Apr14short_SDI_a7m3-10KLmodes.fits', saveOutput = True)"
   ]
  },
  {
   "cell_type": "code",
   "execution_count": 208,
   "metadata": {
    "collapsed": false,
    "scrolled": false
   },
   "outputs": [
    {
     "name": "stdout",
     "output_type": "stream",
     "text": [
      "Read med_HD142527_8Apr14short_SDI_a7m3-5KLmodes.fits in to memory\n"
     ]
    },
    {
     "name": "stderr",
     "output_type": "stream",
     "text": [
      "/anaconda/lib/python3.6/site-packages/ipykernel/__main__.py:57: RuntimeWarning: divide by zero encountered in double_scalars\n"
     ]
    },
    {
     "data": {
      "text/plain": [
       "3.9362694368284812"
      ]
     },
     "execution_count": 208,
     "metadata": {},
     "output_type": "execute_result"
    }
   ],
   "source": [
    "getPlanet('med_HD142527_8Apr14short_SDI_a7m3-5KLmodes.fits', 225, 225, 30)"
   ]
  },
  {
   "cell_type": "code",
   "execution_count": null,
   "metadata": {
    "collapsed": false
   },
   "outputs": [],
   "source": []
  },
  {
   "cell_type": "code",
   "execution_count": null,
   "metadata": {
    "collapsed": true
   },
   "outputs": [],
   "source": []
  }
 ],
 "metadata": {
  "kernelspec": {
   "display_name": "Python 3",
   "language": "python",
   "name": "python3"
  },
  "language_info": {
   "codemirror_mode": {
    "name": "ipython",
    "version": 3
   },
   "file_extension": ".py",
   "mimetype": "text/x-python",
   "name": "python",
   "nbconvert_exporter": "python",
   "pygments_lexer": "ipython3",
   "version": "3.6.0"
  }
 },
 "nbformat": 4,
 "nbformat_minor": 2
}
